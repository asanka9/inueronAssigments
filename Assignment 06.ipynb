{
 "cells": [
  {
   "cell_type": "markdown",
   "metadata": {},
   "source": [
    "# Assignment 6"
   ]
  },
  {
   "cell_type": "markdown",
   "metadata": {},
   "source": [
    "### Question 01)"
   ]
  },
  {
   "cell_type": "code",
   "execution_count": 1,
   "metadata": {},
   "outputs": [
    {
     "data": {
      "text/plain": [
       "array([[1, 1, 1],\n",
       "       [4, 2, 1],\n",
       "       [9, 3, 1]])"
      ]
     },
     "execution_count": 1,
     "metadata": {},
     "output_type": "execute_result"
    }
   ],
   "source": [
    "import numpy as np\n",
    "\n",
    "def powermatrix(vec):\n",
    "    return np.vander(vec,len(vec))\n",
    "    \n",
    "powermatrix([1,2,3])"
   ]
  },
  {
   "cell_type": "markdown",
   "metadata": {},
   "source": [
    "### Question 02)"
   ]
  },
  {
   "cell_type": "code",
   "execution_count": 2,
   "metadata": {},
   "outputs": [],
   "source": [
    "def getmovingaverages(inputlist,k):\n",
    "    print(str(inputlist)[1:-1])\n",
    "    print('=============================================')\n",
    "    for i in range(0,len(inputlist)-k+1):\n",
    "        sum =0\n",
    "        for j in range(i,k+i):\n",
    "            sum = sum + inputlist[j]\n",
    "        print(\"Y\"+str(i+1)+\" \"+str(sum/k)+\" = (\"+str(inputlist[i:k+i])[1:-1]+\" )\"+\"/\"+str(k))\n"
   ]
  },
  {
   "cell_type": "code",
   "execution_count": 3,
   "metadata": {},
   "outputs": [
    {
     "name": "stdout",
     "output_type": "stream",
     "text": [
      "1, 2, 3, 4, 56, 7, 7, 8, 6565, 45, 45, 3, 5, 7\n",
      "=============================================\n",
      "Y1 2.5 = (1, 2, 3, 4 )/4\n",
      "Y2 16.25 = (2, 3, 4, 56 )/4\n",
      "Y3 17.5 = (3, 4, 56, 7 )/4\n",
      "Y4 18.5 = (4, 56, 7, 7 )/4\n",
      "Y5 19.5 = (56, 7, 7, 8 )/4\n",
      "Y6 1646.75 = (7, 7, 8, 6565 )/4\n",
      "Y7 1656.25 = (7, 8, 6565, 45 )/4\n",
      "Y8 1665.75 = (8, 6565, 45, 45 )/4\n",
      "Y9 1664.5 = (6565, 45, 45, 3 )/4\n",
      "Y10 24.5 = (45, 45, 3, 5 )/4\n",
      "Y11 15.0 = (45, 3, 5, 7 )/4\n"
     ]
    }
   ],
   "source": [
    "getmovingaverages([1,2,3,4,56,7,7,8,6565,45,45,3,5,7],4)"
   ]
  },
  {
   "cell_type": "code",
   "execution_count": null,
   "metadata": {},
   "outputs": [],
   "source": []
  }
 ],
 "metadata": {
  "kernelspec": {
   "display_name": "Python 3",
   "language": "python",
   "name": "python3"
  },
  "language_info": {
   "codemirror_mode": {
    "name": "ipython",
    "version": 3
   },
   "file_extension": ".py",
   "mimetype": "text/x-python",
   "name": "python",
   "nbconvert_exporter": "python",
   "pygments_lexer": "ipython3",
   "version": "3.8.5"
  }
 },
 "nbformat": 4,
 "nbformat_minor": 4
}
